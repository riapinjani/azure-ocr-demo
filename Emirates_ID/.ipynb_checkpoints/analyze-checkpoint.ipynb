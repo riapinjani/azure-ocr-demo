{
 "cells": [
  {
   "cell_type": "code",
   "execution_count": 1,
   "metadata": {},
   "outputs": [
    {
     "name": "stdout",
     "output_type": "stream",
     "text": [
      "POST analyze succeeded:\n",
      "{'Content-Length': '0', 'Operation-Location': 'https://ocrdscale.cognitiveservices.azure.com/formrecognizer/v2.0/custom/models/5d4f7bc5-c503-4a08-9070-7fc3fe8cecc0/analyzeresults/674f8365-9ae0-4e5b-b335-a13b8edd36d8', 'x-envoy-upstream-service-time': '231', 'apim-request-id': 'b6045e5b-97ef-4a2b-9b84-58fba7faea85', 'Strict-Transport-Security': 'max-age=31536000; includeSubDomains; preload', 'x-content-type-options': 'nosniff', 'Date': 'Sun, 01 Nov 2020 11:55:26 GMT'}\n"
     ]
    }
   ],
   "source": [
    "########### Python Form Recognizer Async Analyze #############\n",
    "import json\n",
    "import time\n",
    "from requests import get, post\n",
    "\n",
    "# Endpoint URL\n",
    "endpoint = r\"https://ocrdscale.cognitiveservices.azure.com/\"\n",
    "apim_key = \"db8bf67aa2b3412d8f23d0484e227ec4\"\n",
    "model_id = \"5d4f7bc5-c503-4a08-9070-7fc3fe8cecc0\"\n",
    "post_url = endpoint + \"/formrecognizer/v2.0/custom/models/%s/analyze\" % model_id\n",
    "source = r\"Test.pdf\"\n",
    "params = {\n",
    "    \"includeTextDetails\": True\n",
    "}\n",
    "\n",
    "headers = {\n",
    "    # Request headers\n",
    "    'Content-Type': 'application/pdf',\n",
    "    'Ocp-Apim-Subscription-Key': apim_key,\n",
    "}\n",
    "with open(source, \"rb\") as f:\n",
    "    data_bytes = f.read()\n",
    "\n",
    "try:\n",
    "    resp = post(url = post_url, data = data_bytes, headers = headers, params = params)\n",
    "    if resp.status_code != 202:\n",
    "        print(\"POST analyze failed:\\n%s\" % json.dumps(resp.json()))\n",
    "        quit()\n",
    "    print(\"POST analyze succeeded:\\n%s\" % resp.headers)\n",
    "    get_url = resp.headers[\"operation-location\"]\n",
    "except Exception as e:\n",
    "    print(\"POST analyze failed:\\n%s\" % str(e))\n",
    "    quit()"
   ]
  },
  {
   "cell_type": "code",
   "execution_count": 2,
   "metadata": {},
   "outputs": [
    {
     "name": "stdout",
     "output_type": "stream",
     "text": [
      "Analysis succeeded:\n",
      "{\"status\": \"succeeded\", \"createdDateTime\": \"2020-11-01T11:55:27Z\", \"lastUpdatedDateTime\": \"2020-11-01T11:55:34Z\", \"analyzeResult\": {\"version\": \"2.0.0\", \"readResults\": [{\"page\": 1, \"language\": \"en\", \"angle\": 1.7579, \"width\": 8.2606, \"height\": 11.6772, \"unit\": \"inch\", \"lines\": [{\"boundingBox\": [3.0169, 1.8901, 4.3203, 1.9301, 4.317, 2.0701, 3.0135, 2.0301], \"text\": \"United Arab Emirates\", \"words\": [{\"boundingBox\": [3.0347, 1.8915, 3.4295, 1.9102, 3.4245, 2.0459, 3.0277, 2.0345], \"text\": \"United\", \"confidence\": 0.959}, {\"boundingBox\": [3.4577, 1.9113, 3.7493, 1.9215, 3.7459, 2.0554, 3.4529, 2.0468], \"text\": \"Arab\", \"confidence\": 0.958}, {\"boundingBox\": [3.7776, 1.9223, 4.3187, 1.9327, 4.318, 2.0728, 3.7743, 2.0563], \"text\": \"Emirates\", \"confidence\": 0.959}]}, {\"boundingBox\": [4.5236, 1.9968, 4.6703, 2.0134, 4.6536, 2.1634, 4.507, 2.1468], \"text\": \"C\", \"words\": [{\"boundingBox\": [4.5385, 1.998, 4.6379, 2.0093, 4.621, 2.1583, 4.5216, 2.1471], \"text\": \"C\", \"confidence\": 0.736}]}, {\"boundingBox\": [3.0902, 2.1834, 4.267, 2.2068, 4.2636, 2.3334, 3.0869, 2.3034], \"text\": \"Resident Identity Card\", \"words\": [{\"boundingBox\": [3.1055, 2.185, 3.5654, 2.197, 3.561, 2.3172, 3.0996, 2.3], \"text\": \"Resident\", \"confidence\": 0.959}, {\"boundingBox\": [3.588, 2.1975, 3.9953, 2.2056, 3.9922, 2.3308, 3.5837, 2.318], \"text\": \"Identity\", \"confidence\": 0.762}, {\"boundingBox\": [4.0179, 2.206, 4.263, 2.2097, 4.2608, 2.3368, 4.0149, 2.3314], \"text\": \"Card\", \"confidence\": 0.959}]}, {\"boundingBox\": [4.1369, 2.5101, 5.1637, 2.5335, 5.157, 2.6735, 4.1336, 2.6335], \"text\": \"ID Number / dugella\", \"words\": [{\"boundingBox\": [4.139, 2.5117, 4.2295, 2.5119, 4.2266, 2.6273, 4.1367, 2.6223], \"text\": \"ID\", \"confidence\": 0.908}, {\"boundingBox\": [4.2512, 2.512, 4.5987, 2.5166, 4.5933, 2.6475, 4.2482, 2.6285], \"text\": \"Number\", \"confidence\": 0.849}, {\"boundingBox\": [4.6204, 2.5171, 4.6638, 2.5181, 4.658, 2.651, 4.6149, 2.6487], \"text\": \"/\", \"confidence\": 0.799}, {\"boundingBox\": [4.6855, 2.5187, 5.1123, 2.5344, 5.1036, 2.674, 4.6796, 2.6521], \"text\": \"dugella\", \"confidence\": 0.252}]}, {\"boundingBox\": [4.1836, 2.6535, 5.087, 2.6801, 5.0837, 2.7835, 4.1803, 2.7701], \"text\": \"784-1978-3059487-1\", \"words\": [{\"boundingBox\": [4.19, 2.6562, 5.0831, 2.6921, 5.0792, 2.7835, 4.1865, 2.7721], \"text\": \"784-1978-3059487-1\", \"confidence\": 0.909}]}, {\"boundingBox\": [3.0002, 3.3635, 3.9636, 3.4002, 3.9569, 3.5002, 2.9935, 3.4602], \"text\": \"Name Manish Gupta\", \"words\": [{\"boundingBox\": [3.0043, 3.3645, 3.2814, 3.3783, 3.277, 3.4735, 3.0, 3.4651], \"text\": \"Name\", \"confidence\": 0.959}, {\"boundingBox\": [3.3012, 3.3792, 3.6445, 3.3946, 3.6399, 3.4867, 3.2968, 3.4742], \"text\": \"Manish\", \"confidence\": 0.762}, {\"boundingBox\": [3.6709, 3.3957, 3.9614, 3.4071, 3.9566, 3.5001, 3.6663, 3.4878], \"text\": \"Gupta\", \"confidence\": 0.959}]}, {\"boundingBox\": [2.9969, 3.7435, 3.7069, 3.7568, 3.7069, 3.8568, 2.9969, 3.8368], \"text\": \"Nationality: India\", \"words\": [{\"boundingBox\": [2.9987, 3.7469, 3.4664, 3.7541, 3.4633, 3.8507, 2.9984, 3.8414], \"text\": \"Nationality:\", \"confidence\": 0.919}, {\"boundingBox\": [3.485, 3.7549, 3.7102, 3.7658, 3.7063, 3.8602, 3.4817, 3.8514], \"text\": \"India\", \"confidence\": 0.912}]}]}], \"pageResults\": [{\"page\": 1, \"tables\": []}], \"documentResults\": [{\"docType\": \"custom:form\", \"pageRange\": [1, 1], \"fields\": {\"Name\": {\"type\": \"string\", \"valueString\": \"Manish Gupta\", \"text\": \"Manish Gupta\", \"page\": 1, \"boundingBox\": [3.295, 3.38, 3.96, 3.38, 3.96, 3.5, 3.295, 3.5], \"confidence\": 0.748, \"elements\": [\"#/readResults/0/lines/5/words/1\", \"#/readResults/0/lines/5/words/2\"]}, \"ID Number\": {\"type\": \"string\", \"valueString\": \"784-1978-3059487-1\", \"text\": \"784-1978-3059487-1\", \"page\": 1, \"boundingBox\": [4.185, 2.655, 5.085, 2.655, 5.085, 2.785, 4.185, 2.785], \"confidence\": 0.898, \"elements\": [\"#/readResults/0/lines/4/words/0\"]}, \"Nationality\": {\"type\": \"string\", \"valueString\": \"India\", \"text\": \"India\", \"page\": 1, \"boundingBox\": [3.48, 3.755, 3.71, 3.755, 3.71, 3.86, 3.48, 3.86], \"confidence\": 0.791, \"elements\": [\"#/readResults/0/lines/6/words/1\"]}}}], \"errors\": []}}\n",
      "Analysis succeeded:\n",
      "{\"status\": \"succeeded\", \"createdDateTime\": \"2020-11-01T11:55:27Z\", \"lastUpdatedDateTime\": \"2020-11-01T11:55:34Z\", \"analyzeResult\": {\"version\": \"2.0.0\", \"readResults\": [{\"page\": 1, \"language\": \"en\", \"angle\": 1.7579, \"width\": 8.2606, \"height\": 11.6772, \"unit\": \"inch\", \"lines\": [{\"boundingBox\": [3.0169, 1.8901, 4.3203, 1.9301, 4.317, 2.0701, 3.0135, 2.0301], \"text\": \"United Arab Emirates\", \"words\": [{\"boundingBox\": [3.0347, 1.8915, 3.4295, 1.9102, 3.4245, 2.0459, 3.0277, 2.0345], \"text\": \"United\", \"confidence\": 0.959}, {\"boundingBox\": [3.4577, 1.9113, 3.7493, 1.9215, 3.7459, 2.0554, 3.4529, 2.0468], \"text\": \"Arab\", \"confidence\": 0.958}, {\"boundingBox\": [3.7776, 1.9223, 4.3187, 1.9327, 4.318, 2.0728, 3.7743, 2.0563], \"text\": \"Emirates\", \"confidence\": 0.959}]}, {\"boundingBox\": [4.5236, 1.9968, 4.6703, 2.0134, 4.6536, 2.1634, 4.507, 2.1468], \"text\": \"C\", \"words\": [{\"boundingBox\": [4.5385, 1.998, 4.6379, 2.0093, 4.621, 2.1583, 4.5216, 2.1471], \"text\": \"C\", \"confidence\": 0.736}]}, {\"boundingBox\": [3.0902, 2.1834, 4.267, 2.2068, 4.2636, 2.3334, 3.0869, 2.3034], \"text\": \"Resident Identity Card\", \"words\": [{\"boundingBox\": [3.1055, 2.185, 3.5654, 2.197, 3.561, 2.3172, 3.0996, 2.3], \"text\": \"Resident\", \"confidence\": 0.959}, {\"boundingBox\": [3.588, 2.1975, 3.9953, 2.2056, 3.9922, 2.3308, 3.5837, 2.318], \"text\": \"Identity\", \"confidence\": 0.762}, {\"boundingBox\": [4.0179, 2.206, 4.263, 2.2097, 4.2608, 2.3368, 4.0149, 2.3314], \"text\": \"Card\", \"confidence\": 0.959}]}, {\"boundingBox\": [4.1369, 2.5101, 5.1637, 2.5335, 5.157, 2.6735, 4.1336, 2.6335], \"text\": \"ID Number / dugella\", \"words\": [{\"boundingBox\": [4.139, 2.5117, 4.2295, 2.5119, 4.2266, 2.6273, 4.1367, 2.6223], \"text\": \"ID\", \"confidence\": 0.908}, {\"boundingBox\": [4.2512, 2.512, 4.5987, 2.5166, 4.5933, 2.6475, 4.2482, 2.6285], \"text\": \"Number\", \"confidence\": 0.849}, {\"boundingBox\": [4.6204, 2.5171, 4.6638, 2.5181, 4.658, 2.651, 4.6149, 2.6487], \"text\": \"/\", \"confidence\": 0.799}, {\"boundingBox\": [4.6855, 2.5187, 5.1123, 2.5344, 5.1036, 2.674, 4.6796, 2.6521], \"text\": \"dugella\", \"confidence\": 0.252}]}, {\"boundingBox\": [4.1836, 2.6535, 5.087, 2.6801, 5.0837, 2.7835, 4.1803, 2.7701], \"text\": \"784-1978-3059487-1\", \"words\": [{\"boundingBox\": [4.19, 2.6562, 5.0831, 2.6921, 5.0792, 2.7835, 4.1865, 2.7721], \"text\": \"784-1978-3059487-1\", \"confidence\": 0.909}]}, {\"boundingBox\": [3.0002, 3.3635, 3.9636, 3.4002, 3.9569, 3.5002, 2.9935, 3.4602], \"text\": \"Name Manish Gupta\", \"words\": [{\"boundingBox\": [3.0043, 3.3645, 3.2814, 3.3783, 3.277, 3.4735, 3.0, 3.4651], \"text\": \"Name\", \"confidence\": 0.959}, {\"boundingBox\": [3.3012, 3.3792, 3.6445, 3.3946, 3.6399, 3.4867, 3.2968, 3.4742], \"text\": \"Manish\", \"confidence\": 0.762}, {\"boundingBox\": [3.6709, 3.3957, 3.9614, 3.4071, 3.9566, 3.5001, 3.6663, 3.4878], \"text\": \"Gupta\", \"confidence\": 0.959}]}, {\"boundingBox\": [2.9969, 3.7435, 3.7069, 3.7568, 3.7069, 3.8568, 2.9969, 3.8368], \"text\": \"Nationality: India\", \"words\": [{\"boundingBox\": [2.9987, 3.7469, 3.4664, 3.7541, 3.4633, 3.8507, 2.9984, 3.8414], \"text\": \"Nationality:\", \"confidence\": 0.919}, {\"boundingBox\": [3.485, 3.7549, 3.7102, 3.7658, 3.7063, 3.8602, 3.4817, 3.8514], \"text\": \"India\", \"confidence\": 0.912}]}]}], \"pageResults\": [{\"page\": 1, \"tables\": []}], \"documentResults\": [{\"docType\": \"custom:form\", \"pageRange\": [1, 1], \"fields\": {\"Name\": {\"type\": \"string\", \"valueString\": \"Manish Gupta\", \"text\": \"Manish Gupta\", \"page\": 1, \"boundingBox\": [3.295, 3.38, 3.96, 3.38, 3.96, 3.5, 3.295, 3.5], \"confidence\": 0.748, \"elements\": [\"#/readResults/0/lines/5/words/1\", \"#/readResults/0/lines/5/words/2\"]}, \"ID Number\": {\"type\": \"string\", \"valueString\": \"784-1978-3059487-1\", \"text\": \"784-1978-3059487-1\", \"page\": 1, \"boundingBox\": [4.185, 2.655, 5.085, 2.655, 5.085, 2.785, 4.185, 2.785], \"confidence\": 0.898, \"elements\": [\"#/readResults/0/lines/4/words/0\"]}, \"Nationality\": {\"type\": \"string\", \"valueString\": \"India\", \"text\": \"India\", \"page\": 1, \"boundingBox\": [3.48, 3.755, 3.71, 3.755, 3.71, 3.86, 3.48, 3.86], \"confidence\": 0.791, \"elements\": [\"#/readResults/0/lines/6/words/1\"]}}}], \"errors\": []}}\n",
      "Analysis succeeded:\n",
      "{\"status\": \"succeeded\", \"createdDateTime\": \"2020-11-01T11:55:27Z\", \"lastUpdatedDateTime\": \"2020-11-01T11:55:34Z\", \"analyzeResult\": {\"version\": \"2.0.0\", \"readResults\": [{\"page\": 1, \"language\": \"en\", \"angle\": 1.7579, \"width\": 8.2606, \"height\": 11.6772, \"unit\": \"inch\", \"lines\": [{\"boundingBox\": [3.0169, 1.8901, 4.3203, 1.9301, 4.317, 2.0701, 3.0135, 2.0301], \"text\": \"United Arab Emirates\", \"words\": [{\"boundingBox\": [3.0347, 1.8915, 3.4295, 1.9102, 3.4245, 2.0459, 3.0277, 2.0345], \"text\": \"United\", \"confidence\": 0.959}, {\"boundingBox\": [3.4577, 1.9113, 3.7493, 1.9215, 3.7459, 2.0554, 3.4529, 2.0468], \"text\": \"Arab\", \"confidence\": 0.958}, {\"boundingBox\": [3.7776, 1.9223, 4.3187, 1.9327, 4.318, 2.0728, 3.7743, 2.0563], \"text\": \"Emirates\", \"confidence\": 0.959}]}, {\"boundingBox\": [4.5236, 1.9968, 4.6703, 2.0134, 4.6536, 2.1634, 4.507, 2.1468], \"text\": \"C\", \"words\": [{\"boundingBox\": [4.5385, 1.998, 4.6379, 2.0093, 4.621, 2.1583, 4.5216, 2.1471], \"text\": \"C\", \"confidence\": 0.736}]}, {\"boundingBox\": [3.0902, 2.1834, 4.267, 2.2068, 4.2636, 2.3334, 3.0869, 2.3034], \"text\": \"Resident Identity Card\", \"words\": [{\"boundingBox\": [3.1055, 2.185, 3.5654, 2.197, 3.561, 2.3172, 3.0996, 2.3], \"text\": \"Resident\", \"confidence\": 0.959}, {\"boundingBox\": [3.588, 2.1975, 3.9953, 2.2056, 3.9922, 2.3308, 3.5837, 2.318], \"text\": \"Identity\", \"confidence\": 0.762}, {\"boundingBox\": [4.0179, 2.206, 4.263, 2.2097, 4.2608, 2.3368, 4.0149, 2.3314], \"text\": \"Card\", \"confidence\": 0.959}]}, {\"boundingBox\": [4.1369, 2.5101, 5.1637, 2.5335, 5.157, 2.6735, 4.1336, 2.6335], \"text\": \"ID Number / dugella\", \"words\": [{\"boundingBox\": [4.139, 2.5117, 4.2295, 2.5119, 4.2266, 2.6273, 4.1367, 2.6223], \"text\": \"ID\", \"confidence\": 0.908}, {\"boundingBox\": [4.2512, 2.512, 4.5987, 2.5166, 4.5933, 2.6475, 4.2482, 2.6285], \"text\": \"Number\", \"confidence\": 0.849}, {\"boundingBox\": [4.6204, 2.5171, 4.6638, 2.5181, 4.658, 2.651, 4.6149, 2.6487], \"text\": \"/\", \"confidence\": 0.799}, {\"boundingBox\": [4.6855, 2.5187, 5.1123, 2.5344, 5.1036, 2.674, 4.6796, 2.6521], \"text\": \"dugella\", \"confidence\": 0.252}]}, {\"boundingBox\": [4.1836, 2.6535, 5.087, 2.6801, 5.0837, 2.7835, 4.1803, 2.7701], \"text\": \"784-1978-3059487-1\", \"words\": [{\"boundingBox\": [4.19, 2.6562, 5.0831, 2.6921, 5.0792, 2.7835, 4.1865, 2.7721], \"text\": \"784-1978-3059487-1\", \"confidence\": 0.909}]}, {\"boundingBox\": [3.0002, 3.3635, 3.9636, 3.4002, 3.9569, 3.5002, 2.9935, 3.4602], \"text\": \"Name Manish Gupta\", \"words\": [{\"boundingBox\": [3.0043, 3.3645, 3.2814, 3.3783, 3.277, 3.4735, 3.0, 3.4651], \"text\": \"Name\", \"confidence\": 0.959}, {\"boundingBox\": [3.3012, 3.3792, 3.6445, 3.3946, 3.6399, 3.4867, 3.2968, 3.4742], \"text\": \"Manish\", \"confidence\": 0.762}, {\"boundingBox\": [3.6709, 3.3957, 3.9614, 3.4071, 3.9566, 3.5001, 3.6663, 3.4878], \"text\": \"Gupta\", \"confidence\": 0.959}]}, {\"boundingBox\": [2.9969, 3.7435, 3.7069, 3.7568, 3.7069, 3.8568, 2.9969, 3.8368], \"text\": \"Nationality: India\", \"words\": [{\"boundingBox\": [2.9987, 3.7469, 3.4664, 3.7541, 3.4633, 3.8507, 2.9984, 3.8414], \"text\": \"Nationality:\", \"confidence\": 0.919}, {\"boundingBox\": [3.485, 3.7549, 3.7102, 3.7658, 3.7063, 3.8602, 3.4817, 3.8514], \"text\": \"India\", \"confidence\": 0.912}]}]}], \"pageResults\": [{\"page\": 1, \"tables\": []}], \"documentResults\": [{\"docType\": \"custom:form\", \"pageRange\": [1, 1], \"fields\": {\"Name\": {\"type\": \"string\", \"valueString\": \"Manish Gupta\", \"text\": \"Manish Gupta\", \"page\": 1, \"boundingBox\": [3.295, 3.38, 3.96, 3.38, 3.96, 3.5, 3.295, 3.5], \"confidence\": 0.748, \"elements\": [\"#/readResults/0/lines/5/words/1\", \"#/readResults/0/lines/5/words/2\"]}, \"ID Number\": {\"type\": \"string\", \"valueString\": \"784-1978-3059487-1\", \"text\": \"784-1978-3059487-1\", \"page\": 1, \"boundingBox\": [4.185, 2.655, 5.085, 2.655, 5.085, 2.785, 4.185, 2.785], \"confidence\": 0.898, \"elements\": [\"#/readResults/0/lines/4/words/0\"]}, \"Nationality\": {\"type\": \"string\", \"valueString\": \"India\", \"text\": \"India\", \"page\": 1, \"boundingBox\": [3.48, 3.755, 3.71, 3.755, 3.71, 3.86, 3.48, 3.86], \"confidence\": 0.791, \"elements\": [\"#/readResults/0/lines/6/words/1\"]}}}], \"errors\": []}}\n",
      "Analyze operation did not complete within the allocated time.\n"
     ]
    }
   ],
   "source": [
    "n_tries = 5\n",
    "n_try = 0\n",
    "wait_sec = 5\n",
    "max_wait_sec = 60\n",
    "while n_try < n_tries:\n",
    "    try:\n",
    "        resp = get(url = get_url, headers = {\"Ocp-Apim-Subscription-Key\": apim_key})\n",
    "        resp_json = resp.json()\n",
    "        if resp.status_code != 200:\n",
    "            print(\"GET analyze results failed:\\n%s\" % json.dumps(resp_json))\n",
    "            quit()\n",
    "        status = resp_json[\"status\"]\n",
    "        if status == \"succeeded\":\n",
    "            print(\"Analysis succeeded:\\n%s\" % json.dumps(resp_json))\n",
    "            quit()\n",
    "        if status == \"failed\":\n",
    "            print(\"Analysis failed:\\n%s\" % json.dumps(resp_json))\n",
    "            quit()\n",
    "        # Analysis still running. Wait and retry.\n",
    "        time.sleep(wait_sec)\n",
    "        n_try += 1\n",
    "        wait_sec = min(2*wait_sec, max_wait_sec)     \n",
    "    except Exception as e:\n",
    "        msg = \"GET analyze results failed:\\n%s\" % str(e)\n",
    "        print(msg)\n",
    "        quit()\n",
    "print(\"Analyze operation did not complete within the allocated time.\")"
   ]
  },
  {
   "cell_type": "code",
   "execution_count": 1,
   "metadata": {},
   "outputs": [
    {
     "ename": "NameError",
     "evalue": "name 'resp_json' is not defined",
     "output_type": "error",
     "traceback": [
      "\u001b[0;31m---------------------------------------------------------------------------\u001b[0m",
      "\u001b[0;31mNameError\u001b[0m                                 Traceback (most recent call last)",
      "\u001b[0;32m<ipython-input-1-1419f1b2b3a0>\u001b[0m in \u001b[0;36m<module>\u001b[0;34m\u001b[0m\n\u001b[0;32m----> 1\u001b[0;31m \u001b[0mresp_json\u001b[0m\u001b[0;34m\u001b[0m\u001b[0;34m\u001b[0m\u001b[0m\n\u001b[0m",
      "\u001b[0;31mNameError\u001b[0m: name 'resp_json' is not defined"
     ]
    }
   ],
   "source": [
    "resp_json"
   ]
  },
  {
   "cell_type": "code",
   "execution_count": null,
   "metadata": {},
   "outputs": [],
   "source": []
  }
 ],
 "metadata": {
  "kernelspec": {
   "display_name": "Python 3",
   "language": "python",
   "name": "python3"
  },
  "language_info": {
   "codemirror_mode": {
    "name": "ipython",
    "version": 3
   },
   "file_extension": ".py",
   "mimetype": "text/x-python",
   "name": "python",
   "nbconvert_exporter": "python",
   "pygments_lexer": "ipython3",
   "version": "3.8.3"
  }
 },
 "nbformat": 4,
 "nbformat_minor": 4
}
