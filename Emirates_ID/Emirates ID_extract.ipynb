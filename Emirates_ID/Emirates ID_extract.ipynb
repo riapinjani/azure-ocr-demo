{
 "cells": [
  {
   "cell_type": "code",
   "execution_count": 1,
   "metadata": {},
   "outputs": [
    {
     "data": {
      "text/plain": [
       "'/Users/riapinjani/Downloads/Azure OCR/Emirates_ID'"
      ]
     },
     "execution_count": 1,
     "metadata": {},
     "output_type": "execute_result"
    }
   ],
   "source": [
    "%pwd"
   ]
  },
  {
   "cell_type": "code",
   "execution_count": 2,
   "metadata": {},
   "outputs": [],
   "source": [
    "import json\n",
    "\n",
    "with open('Result-Test.json') as f:\n",
    "   data = json.load(f)"
   ]
  },
  {
   "cell_type": "code",
   "execution_count": 3,
   "metadata": {},
   "outputs": [],
   "source": [
    "data = data['analyzeResult']['documentResults'][0]['fields']"
   ]
  },
  {
   "cell_type": "code",
   "execution_count": 4,
   "metadata": {},
   "outputs": [
    {
     "data": {
      "text/plain": [
       "{'Nationality': {'type': 'string',\n",
       "  'valueString': 'India',\n",
       "  'text': 'India',\n",
       "  'page': 1,\n",
       "  'boundingBox': [3.48, 3.755, 3.71, 3.755, 3.71, 3.86, 3.48, 3.86],\n",
       "  'confidence': 0.791,\n",
       "  'elements': ['#/readResults/0/lines/6/words/1']},\n",
       " 'ID Number': {'type': 'string',\n",
       "  'valueString': '784-1978-3059487-1',\n",
       "  'text': '784-1978-3059487-1',\n",
       "  'page': 1,\n",
       "  'boundingBox': [4.185, 2.655, 5.085, 2.655, 5.085, 2.785, 4.185, 2.785],\n",
       "  'confidence': 0.898,\n",
       "  'elements': ['#/readResults/0/lines/4/words/0']},\n",
       " 'Name': {'type': 'string',\n",
       "  'valueString': 'Manish Gupta',\n",
       "  'text': 'Manish Gupta',\n",
       "  'page': 1,\n",
       "  'boundingBox': [3.295, 3.38, 3.96, 3.38, 3.96, 3.5, 3.295, 3.5],\n",
       "  'confidence': 0.748,\n",
       "  'elements': ['#/readResults/0/lines/5/words/1',\n",
       "   '#/readResults/0/lines/5/words/2']}}"
      ]
     },
     "execution_count": 4,
     "metadata": {},
     "output_type": "execute_result"
    }
   ],
   "source": [
    "data"
   ]
  },
  {
   "cell_type": "code",
   "execution_count": 5,
   "metadata": {},
   "outputs": [],
   "source": [
    "import json\n",
    "\n",
    "with open('Emirates_ID2/Result-Test.json') as f:\n",
    "   data2 = json.load(f)"
   ]
  },
  {
   "cell_type": "code",
   "execution_count": 6,
   "metadata": {},
   "outputs": [],
   "source": [
    "data2 = data2['analyzeResult']['documentResults'][0]['fields']"
   ]
  },
  {
   "cell_type": "code",
   "execution_count": 7,
   "metadata": {},
   "outputs": [
    {
     "data": {
      "text/plain": [
       "{'ID Expiry Date': {'type': 'date',\n",
       "  'text': '28/11/2021',\n",
       "  'page': 1,\n",
       "  'boundingBox': [3.755, 2.65, 4.235, 2.65, 4.235, 2.755, 3.755, 2.755],\n",
       "  'confidence': 0.822,\n",
       "  'elements': ['#/readResults/0/lines/3/words/0']},\n",
       " 'Date of Birth': {'type': 'date',\n",
       "  'text': '22/02/1978',\n",
       "  'page': 1,\n",
       "  'boundingBox': [4.625, 2.22, 5.11, 2.22, 5.11, 2.34, 4.625, 2.34],\n",
       "  'confidence': 0.995,\n",
       "  'elements': ['#/readResults/0/lines/1/words/3']},\n",
       " 'Gender': {'type': 'string',\n",
       "  'valueString': 'M',\n",
       "  'text': 'M',\n",
       "  'page': 1,\n",
       "  'boundingBox': [2.805, 2.235, 2.87, 2.235, 2.87, 2.345, 2.805, 2.345],\n",
       "  'confidence': 0.69,\n",
       "  'elements': ['#/readResults/0/lines/0/words/1']}}"
      ]
     },
     "execution_count": 7,
     "metadata": {},
     "output_type": "execute_result"
    }
   ],
   "source": [
    "data2"
   ]
  },
  {
   "cell_type": "code",
   "execution_count": 8,
   "metadata": {},
   "outputs": [],
   "source": [
    "merged = {**data, **data2}"
   ]
  },
  {
   "cell_type": "code",
   "execution_count": 9,
   "metadata": {},
   "outputs": [
    {
     "data": {
      "text/plain": [
       "{'Nationality': {'type': 'string',\n",
       "  'valueString': 'India',\n",
       "  'text': 'India',\n",
       "  'page': 1,\n",
       "  'boundingBox': [3.48, 3.755, 3.71, 3.755, 3.71, 3.86, 3.48, 3.86],\n",
       "  'confidence': 0.791,\n",
       "  'elements': ['#/readResults/0/lines/6/words/1']},\n",
       " 'ID Number': {'type': 'string',\n",
       "  'valueString': '784-1978-3059487-1',\n",
       "  'text': '784-1978-3059487-1',\n",
       "  'page': 1,\n",
       "  'boundingBox': [4.185, 2.655, 5.085, 2.655, 5.085, 2.785, 4.185, 2.785],\n",
       "  'confidence': 0.898,\n",
       "  'elements': ['#/readResults/0/lines/4/words/0']},\n",
       " 'Name': {'type': 'string',\n",
       "  'valueString': 'Manish Gupta',\n",
       "  'text': 'Manish Gupta',\n",
       "  'page': 1,\n",
       "  'boundingBox': [3.295, 3.38, 3.96, 3.38, 3.96, 3.5, 3.295, 3.5],\n",
       "  'confidence': 0.748,\n",
       "  'elements': ['#/readResults/0/lines/5/words/1',\n",
       "   '#/readResults/0/lines/5/words/2']},\n",
       " 'ID Expiry Date': {'type': 'date',\n",
       "  'text': '28/11/2021',\n",
       "  'page': 1,\n",
       "  'boundingBox': [3.755, 2.65, 4.235, 2.65, 4.235, 2.755, 3.755, 2.755],\n",
       "  'confidence': 0.822,\n",
       "  'elements': ['#/readResults/0/lines/3/words/0']},\n",
       " 'Date of Birth': {'type': 'date',\n",
       "  'text': '22/02/1978',\n",
       "  'page': 1,\n",
       "  'boundingBox': [4.625, 2.22, 5.11, 2.22, 5.11, 2.34, 4.625, 2.34],\n",
       "  'confidence': 0.995,\n",
       "  'elements': ['#/readResults/0/lines/1/words/3']},\n",
       " 'Gender': {'type': 'string',\n",
       "  'valueString': 'M',\n",
       "  'text': 'M',\n",
       "  'page': 1,\n",
       "  'boundingBox': [2.805, 2.235, 2.87, 2.235, 2.87, 2.345, 2.805, 2.345],\n",
       "  'confidence': 0.69,\n",
       "  'elements': ['#/readResults/0/lines/0/words/1']}}"
      ]
     },
     "execution_count": 9,
     "metadata": {},
     "output_type": "execute_result"
    }
   ],
   "source": [
    "merged"
   ]
  },
  {
   "cell_type": "code",
   "execution_count": 10,
   "metadata": {},
   "outputs": [
    {
     "name": "stdout",
     "output_type": "stream",
     "text": [
      "Nationality : India\n",
      "ID Number : 784-1978-3059487-1\n",
      "Name : Manish Gupta\n",
      "ID Expiry Date : 28/11/2021\n",
      "Date of Birth : 22/02/1978\n",
      "Gender : M\n"
     ]
    }
   ],
   "source": [
    "#for key, value in merged.items():\n",
    "#    print(key, \":\", value['text'])"
   ]
  },
  {
   "cell_type": "code",
   "execution_count": 11,
   "metadata": {},
   "outputs": [],
   "source": [
    "result = {\n",
    "    \"Nationality\": merged['Nationality']['text'],\n",
    "    \"ID Number\": merged['ID Number']['text'],\n",
    "    \"Name\": merged['Name']['text'],\n",
    "    \"ID Expiry Date\": merged['ID Expiry Date']['text'],\n",
    "    \"Date of Birth\":merged['Date of Birth']['text'],\n",
    "    \"Gender\" : merged['Gender']['text'],\n",
    "}"
   ]
  },
  {
   "cell_type": "code",
   "execution_count": 12,
   "metadata": {},
   "outputs": [],
   "source": [
    "with open(\"emirates_id.json\", \"w\") as write_file:\n",
    "    json.dump(result, write_file) # encode dict into JSON"
   ]
  },
  {
   "cell_type": "code",
   "execution_count": 13,
   "metadata": {},
   "outputs": [],
   "source": [
    "with open('emirates_id.json') as f:\n",
    "   data = json.load(f)"
   ]
  },
  {
   "cell_type": "code",
   "execution_count": 14,
   "metadata": {},
   "outputs": [
    {
     "data": {
      "text/plain": [
       "{'Nationality': 'India',\n",
       " 'ID Number': '784-1978-3059487-1',\n",
       " 'Name': 'Manish Gupta',\n",
       " 'ID Expiry Date': '28/11/2021',\n",
       " 'Date of Birth': '22/02/1978',\n",
       " 'Gender': 'M'}"
      ]
     },
     "execution_count": 14,
     "metadata": {},
     "output_type": "execute_result"
    }
   ],
   "source": [
    "data"
   ]
  },
  {
   "cell_type": "code",
   "execution_count": null,
   "metadata": {},
   "outputs": [],
   "source": []
  }
 ],
 "metadata": {
  "kernelspec": {
   "display_name": "Python 3",
   "language": "python",
   "name": "python3"
  },
  "language_info": {
   "codemirror_mode": {
    "name": "ipython",
    "version": 3
   },
   "file_extension": ".py",
   "mimetype": "text/x-python",
   "name": "python",
   "nbconvert_exporter": "python",
   "pygments_lexer": "ipython3",
   "version": "3.8.3"
  }
 },
 "nbformat": 4,
 "nbformat_minor": 4
}
