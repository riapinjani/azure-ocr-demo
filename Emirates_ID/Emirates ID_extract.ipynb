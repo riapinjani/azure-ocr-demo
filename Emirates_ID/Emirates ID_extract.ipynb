{
 "cells": [
  {
   "cell_type": "code",
   "execution_count": 1,
   "metadata": {},
   "outputs": [
    {
     "data": {
      "text/plain": [
       "'/Users/riapinjani/Documents/GitHub/azure-ocr-demo/Emirates_ID'"
      ]
     },
     "execution_count": 1,
     "metadata": {},
     "output_type": "execute_result"
    }
   ],
   "source": [
    "%pwd"
   ]
  },
  {
   "cell_type": "code",
   "execution_count": 2,
   "metadata": {},
   "outputs": [],
   "source": [
    "import json\n",
    "\n",
    "with open('emiratesid.json') as f:\n",
    "   data = json.load(f)"
   ]
  },
  {
   "cell_type": "code",
   "execution_count": 3,
   "metadata": {},
   "outputs": [],
   "source": [
    "data = data['analyzeResult']['documentResults'][0]['fields']"
   ]
  },
  {
   "cell_type": "code",
   "execution_count": 4,
   "metadata": {},
   "outputs": [
    {
     "data": {
      "text/plain": [
       "{'ID Number': {'type': 'string',\n",
       "  'valueString': '784-1978-3059487-1',\n",
       "  'text': '784-1978-3059487-1',\n",
       "  'page': 1,\n",
       "  'boundingBox': [4.185, 2.655, 5.085, 2.655, 5.085, 2.785, 4.185, 2.785],\n",
       "  'confidence': 0.898,\n",
       "  'elements': ['#/readResults/0/lines/4/words/0']},\n",
       " 'Name': {'type': 'string',\n",
       "  'valueString': 'Manish Gupta',\n",
       "  'text': 'Manish Gupta',\n",
       "  'page': 1,\n",
       "  'boundingBox': [3.295, 3.38, 3.96, 3.38, 3.96, 3.5, 3.295, 3.5],\n",
       "  'confidence': 0.748,\n",
       "  'elements': ['#/readResults/0/lines/5/words/1',\n",
       "   '#/readResults/0/lines/5/words/2']},\n",
       " 'Nationality': {'type': 'string',\n",
       "  'valueString': 'India',\n",
       "  'text': 'India',\n",
       "  'page': 1,\n",
       "  'boundingBox': [3.48, 3.755, 3.71, 3.755, 3.71, 3.86, 3.48, 3.86],\n",
       "  'confidence': 0.791,\n",
       "  'elements': ['#/readResults/0/lines/6/words/1']}}"
      ]
     },
     "execution_count": 4,
     "metadata": {},
     "output_type": "execute_result"
    }
   ],
   "source": [
    "data"
   ]
  },
  {
   "cell_type": "code",
   "execution_count": 5,
   "metadata": {},
   "outputs": [],
   "source": [
    "#with open('Emirates_ID2/Result-Test.json') as f:\n",
    "  # data2 = json.load(f)"
   ]
  },
  {
   "cell_type": "code",
   "execution_count": 6,
   "metadata": {},
   "outputs": [],
   "source": [
    "#data2 = data2['analyzeResult']['documentResults'][0]['fields']"
   ]
  },
  {
   "cell_type": "code",
   "execution_count": 7,
   "metadata": {},
   "outputs": [],
   "source": [
    "#data2"
   ]
  },
  {
   "cell_type": "code",
   "execution_count": 8,
   "metadata": {},
   "outputs": [],
   "source": [
    "#merged = {**data, **data2}"
   ]
  },
  {
   "cell_type": "code",
   "execution_count": 9,
   "metadata": {},
   "outputs": [],
   "source": [
    "#merged"
   ]
  },
  {
   "cell_type": "code",
   "execution_count": 10,
   "metadata": {},
   "outputs": [
    {
     "name": "stdout",
     "output_type": "stream",
     "text": [
      "Nationality : India\n",
      "ID Number : 784-1978-3059487-1\n",
      "Name : Manish Gupta\n",
      "ID Expiry Date : 28/11/2021\n",
      "Date of Birth : 22/02/1978\n",
      "Gender : M\n"
     ]
    }
   ],
   "source": [
    "#for key, value in merged.items():\n",
    "#    print(key, \":\", value['text'])"
   ]
  },
  {
   "cell_type": "code",
   "execution_count": 10,
   "metadata": {},
   "outputs": [],
   "source": [
    "result = {\n",
    "    \"Nationality\": data['Nationality']['text'],\n",
    "    \"ID Number\": data['ID Number']['text'],\n",
    "    \"Name\": data['Name']['text'],\n",
    "   # \"ID Expiry Date\": merged['ID Expiry Date']['text'],\n",
    "    #\"Date of Birth\":merged['Date of Birth']['text'],\n",
    "    #\"Gender\" : merged['Gender']['text'],\n",
    "}"
   ]
  },
  {
   "cell_type": "code",
   "execution_count": 11,
   "metadata": {},
   "outputs": [],
   "source": [
    "with open(\"emiratesid_payload.json\", \"w\") as write_file:\n",
    "    json.dump(result, write_file) # encode dict into JSON"
   ]
  },
  {
   "cell_type": "code",
   "execution_count": 12,
   "metadata": {},
   "outputs": [],
   "source": [
    "with open('emiratesid_payload.json') as f:\n",
    "   data = json.load(f)"
   ]
  },
  {
   "cell_type": "code",
   "execution_count": 13,
   "metadata": {},
   "outputs": [
    {
     "data": {
      "text/plain": [
       "{'Nationality': 'India',\n",
       " 'ID Number': '784-1978-3059487-1',\n",
       " 'Name': 'Manish Gupta'}"
      ]
     },
     "execution_count": 13,
     "metadata": {},
     "output_type": "execute_result"
    }
   ],
   "source": [
    "data"
   ]
  },
  {
   "cell_type": "code",
   "execution_count": null,
   "metadata": {},
   "outputs": [],
   "source": []
  }
 ],
 "metadata": {
  "kernelspec": {
   "display_name": "Python 3",
   "language": "python",
   "name": "python3"
  },
  "language_info": {
   "codemirror_mode": {
    "name": "ipython",
    "version": 3
   },
   "file_extension": ".py",
   "mimetype": "text/x-python",
   "name": "python",
   "nbconvert_exporter": "python",
   "pygments_lexer": "ipython3",
   "version": "3.8.3"
  }
 },
 "nbformat": 4,
 "nbformat_minor": 4
}
