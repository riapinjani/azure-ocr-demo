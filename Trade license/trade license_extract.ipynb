{
 "cells": [
  {
   "cell_type": "code",
   "execution_count": 86,
   "metadata": {},
   "outputs": [],
   "source": [
    "import json\n",
    "\n",
    "with open('Result-Test.json') as f:\n",
    "   data = json.load(f)\n"
   ]
  },
  {
   "cell_type": "code",
   "execution_count": 87,
   "metadata": {},
   "outputs": [],
   "source": [
    "data = data[\"analyzeResult\"][\"documentResults\"][0][\"fields\"]"
   ]
  },
  {
   "cell_type": "code",
   "execution_count": 88,
   "metadata": {},
   "outputs": [
    {
     "data": {
      "text/plain": [
       "dict"
      ]
     },
     "execution_count": 88,
     "metadata": {},
     "output_type": "execute_result"
    }
   ],
   "source": [
    "type(data)"
   ]
  },
  {
   "cell_type": "code",
   "execution_count": 89,
   "metadata": {},
   "outputs": [
    {
     "name": "stdout",
     "output_type": "stream",
     "text": [
      "Trade License Number : 670266\n",
      "Company Name : DOLPHIN GLOBAL LOGISTICS L.L.C\n",
      "License Expiry Date : 08/05/2014\n",
      "Entity Type : Limited Liability Company(LLC)\n"
     ]
    }
   ],
   "source": [
    "for key, value in data.items():\n",
    "    print(key, \":\", value['text'])"
   ]
  },
  {
   "cell_type": "code",
   "execution_count": 90,
   "metadata": {},
   "outputs": [],
   "source": [
    "#import sys\n",
    "#sys.stdout=open(\"trade_license.json\",\"w\")\n",
    "#for key, value in data.items():\n",
    "   # print(key,\":\", value['text'])\n",
    "#sys.stdout.close()"
   ]
  },
  {
   "cell_type": "code",
   "execution_count": 91,
   "metadata": {},
   "outputs": [],
   "source": [
    "result = {\n",
    "    \"Trade License Number\": data['Trade License Number']['text'],\n",
    "    \"Company Name\": data['Company Name']['text'],\n",
    "    \"License Expiry Date\": data['License Expiry Date']['text'],\n",
    "    \"Entity Type\": data['Entity Type']['text'],\n",
    "}"
   ]
  },
  {
   "cell_type": "code",
   "execution_count": 92,
   "metadata": {},
   "outputs": [
    {
     "data": {
      "text/plain": [
       "{'Trade License Number': '670266',\n",
       " 'Company Name': 'DOLPHIN GLOBAL LOGISTICS L.L.C',\n",
       " 'License Expiry Date': '08/05/2014',\n",
       " 'Entity Type': 'Limited Liability Company(LLC)'}"
      ]
     },
     "execution_count": 92,
     "metadata": {},
     "output_type": "execute_result"
    }
   ],
   "source": [
    "result"
   ]
  },
  {
   "cell_type": "code",
   "execution_count": 93,
   "metadata": {},
   "outputs": [
    {
     "data": {
      "text/plain": [
       "{'Trade License Number': '670266',\n",
       " 'Company Name': 'DOLPHIN GLOBAL LOGISTICS L.L.C',\n",
       " 'License Expiry Date': '08/05/2014',\n",
       " 'Entity Type': 'Limited Liability Company(LLC)'}"
      ]
     },
     "execution_count": 93,
     "metadata": {},
     "output_type": "execute_result"
    }
   ],
   "source": [
    "result"
   ]
  },
  {
   "cell_type": "code",
   "execution_count": 94,
   "metadata": {},
   "outputs": [],
   "source": [
    "with open(\"trade_license.json\", \"w\") as write_file:\n",
    "    json.dump(result, write_file) # encode dict into JSON"
   ]
  },
  {
   "cell_type": "code",
   "execution_count": 95,
   "metadata": {},
   "outputs": [],
   "source": [
    "with open('trade_license.json') as f:\n",
    "   data = json.load(f)"
   ]
  },
  {
   "cell_type": "code",
   "execution_count": 96,
   "metadata": {},
   "outputs": [
    {
     "data": {
      "text/plain": [
       "{'Trade License Number': '670266',\n",
       " 'Company Name': 'DOLPHIN GLOBAL LOGISTICS L.L.C',\n",
       " 'License Expiry Date': '08/05/2014',\n",
       " 'Entity Type': 'Limited Liability Company(LLC)'}"
      ]
     },
     "execution_count": 96,
     "metadata": {},
     "output_type": "execute_result"
    }
   ],
   "source": [
    "data"
   ]
  },
  {
   "cell_type": "code",
   "execution_count": null,
   "metadata": {},
   "outputs": [],
   "source": []
  }
 ],
 "metadata": {
  "kernelspec": {
   "display_name": "Python 3",
   "language": "python",
   "name": "python3"
  },
  "language_info": {
   "codemirror_mode": {
    "name": "ipython",
    "version": 3
   },
   "file_extension": ".py",
   "mimetype": "text/x-python",
   "name": "python",
   "nbconvert_exporter": "python",
   "pygments_lexer": "ipython3",
   "version": "3.8.3"
  }
 },
 "nbformat": 4,
 "nbformat_minor": 4
}
