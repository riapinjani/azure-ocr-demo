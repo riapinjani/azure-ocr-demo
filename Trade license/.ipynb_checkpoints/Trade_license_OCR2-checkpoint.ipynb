{
 "cells": [
  {
   "cell_type": "code",
   "execution_count": 4,
   "metadata": {},
   "outputs": [
    {
     "ename": "FileNotFoundError",
     "evalue": "[Errno 2] No such file or directory: '/Users/riapinjani/Downloads/Trade\\\\ license/Test.pdf'",
     "output_type": "error",
     "traceback": [
      "\u001b[0;31m---------------------------------------------------------------------------\u001b[0m",
      "\u001b[0;31mFileNotFoundError\u001b[0m                         Traceback (most recent call last)",
      "\u001b[0;32m<ipython-input-4-87630dd7e21a>\u001b[0m in \u001b[0;36m<module>\u001b[0;34m\u001b[0m\n\u001b[1;32m     19\u001b[0m     \u001b[0;34m'Ocp-Apim-Subscription-Key'\u001b[0m\u001b[0;34m:\u001b[0m \u001b[0mapim_key\u001b[0m\u001b[0;34m,\u001b[0m\u001b[0;34m\u001b[0m\u001b[0;34m\u001b[0m\u001b[0m\n\u001b[1;32m     20\u001b[0m }\n\u001b[0;32m---> 21\u001b[0;31m \u001b[0;32mwith\u001b[0m \u001b[0mopen\u001b[0m\u001b[0;34m(\u001b[0m\u001b[0msource\u001b[0m\u001b[0;34m,\u001b[0m \u001b[0;34m\"rb\"\u001b[0m\u001b[0;34m)\u001b[0m \u001b[0;32mas\u001b[0m \u001b[0mf\u001b[0m\u001b[0;34m:\u001b[0m\u001b[0;34m\u001b[0m\u001b[0;34m\u001b[0m\u001b[0m\n\u001b[0m\u001b[1;32m     22\u001b[0m     \u001b[0mdata_bytes\u001b[0m \u001b[0;34m=\u001b[0m \u001b[0mf\u001b[0m\u001b[0;34m.\u001b[0m\u001b[0mread\u001b[0m\u001b[0;34m(\u001b[0m\u001b[0;34m)\u001b[0m\u001b[0;34m\u001b[0m\u001b[0;34m\u001b[0m\u001b[0m\n\u001b[1;32m     23\u001b[0m \u001b[0;34m\u001b[0m\u001b[0m\n",
      "\u001b[0;31mFileNotFoundError\u001b[0m: [Errno 2] No such file or directory: '/Users/riapinjani/Downloads/Trade\\\\ license/Test.pdf'"
     ]
    }
   ],
   "source": [
    "# Analyze forms for key-value pairs and tables\n",
    "import json\n",
    "import time\n",
    "from requests import get, post\n",
    "\n",
    "# Endpoint URL\n",
    "endpoint = r\"https://ocrdscale.cognitiveservices.azure.com/\"\n",
    "apim_key = \"db8bf67aa2b3412d8f23d0484e227ec4\"\n",
    "model_id = \"c53ec939-9d9d-4533-ba79-58a8ed25dd93\"\n",
    "post_url = endpoint + \"/formrecognizer/v2.0/custom/models/%s/analyze\" % model_id\n",
    "source = r\"/Users/riapinjani/Downloads/Trade\\ license/Test.pdf\"\n",
    "params = {\n",
    "    \"includeTextDetails\": True\n",
    "}\n",
    "\n",
    "headers = {\n",
    "    # Request headers\n",
    "    'Content-Type': '<file type>',\n",
    "    'Ocp-Apim-Subscription-Key': apim_key,\n",
    "}\n",
    "with open(source, \"rb\") as f:\n",
    "    data_bytes = f.read()\n",
    "\n",
    "try:\n",
    "    resp = post(url = post_url, data = data_bytes, headers = headers, params = params)\n",
    "    if resp.status_code != 202:\n",
    "        print(\"POST analyze failed:\\n%s\" % json.dumps(resp.json()))\n",
    "        quit()\n",
    "    print(\"POST analyze succeeded:\\n%s\" % resp.headers)\n",
    "    get_url = resp.headers[\"operation-location\"]\n",
    "except Exception as e:\n",
    "    print(\"POST analyze failed:\\n%s\" % str(e))\n",
    "    quit()"
   ]
  },
  {
   "cell_type": "code",
   "execution_count": null,
   "metadata": {},
   "outputs": [],
   "source": []
  }
 ],
 "metadata": {
  "kernelspec": {
   "display_name": "Python 3",
   "language": "python",
   "name": "python3"
  },
  "language_info": {
   "codemirror_mode": {
    "name": "ipython",
    "version": 3
   },
   "file_extension": ".py",
   "mimetype": "text/x-python",
   "name": "python",
   "nbconvert_exporter": "python",
   "pygments_lexer": "ipython3",
   "version": "3.8.3"
  }
 },
 "nbformat": 4,
 "nbformat_minor": 4
}
